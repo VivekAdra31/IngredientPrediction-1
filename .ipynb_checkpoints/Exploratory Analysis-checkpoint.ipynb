{
 "cells": [
  {
   "cell_type": "code",
   "execution_count": 1,
   "metadata": {},
   "outputs": [],
   "source": [
    "import pandas as pd\n",
    "import numpy as np\n",
    "import matplotlib.pyplot as plt\n",
    "import seaborn as sb\n",
    "sb.set()"
   ]
  },
  {
   "cell_type": "code",
   "execution_count": 6,
   "metadata": {},
   "outputs": [
    {
     "data": {
      "text/html": [
       "<div>\n",
       "<style scoped>\n",
       "    .dataframe tbody tr th:only-of-type {\n",
       "        vertical-align: middle;\n",
       "    }\n",
       "\n",
       "    .dataframe tbody tr th {\n",
       "        vertical-align: top;\n",
       "    }\n",
       "\n",
       "    .dataframe thead th {\n",
       "        text-align: right;\n",
       "    }\n",
       "</style>\n",
       "<table border=\"1\" class=\"dataframe\">\n",
       "  <thead>\n",
       "    <tr style=\"text-align: right;\">\n",
       "      <th></th>\n",
       "      <th>cuisine</th>\n",
       "      <th>ingredients</th>\n",
       "    </tr>\n",
       "    <tr>\n",
       "      <th>id</th>\n",
       "      <th></th>\n",
       "      <th></th>\n",
       "    </tr>\n",
       "  </thead>\n",
       "  <tbody>\n",
       "    <tr>\n",
       "      <th>0</th>\n",
       "      <td>spanish</td>\n",
       "      <td>[mussels, ground black pepper, garlic cloves, ...</td>\n",
       "    </tr>\n",
       "    <tr>\n",
       "      <th>1</th>\n",
       "      <td>mexican</td>\n",
       "      <td>[tomatoes, diced red onions, paprika, salt, co...</td>\n",
       "    </tr>\n",
       "    <tr>\n",
       "      <th>2</th>\n",
       "      <td>french</td>\n",
       "      <td>[chicken broth, truffles, pimentos, green pepp...</td>\n",
       "    </tr>\n",
       "    <tr>\n",
       "      <th>3</th>\n",
       "      <td>chinese</td>\n",
       "      <td>[fresh ginger, sesame oil, frozen peas, cooked...</td>\n",
       "    </tr>\n",
       "    <tr>\n",
       "      <th>4</th>\n",
       "      <td>italian</td>\n",
       "      <td>[orange peel, cookies, vanilla ice cream, gran...</td>\n",
       "    </tr>\n",
       "  </tbody>\n",
       "</table>\n",
       "</div>"
      ],
      "text/plain": [
       "    cuisine                                        ingredients\n",
       "id                                                            \n",
       "0   spanish  [mussels, ground black pepper, garlic cloves, ...\n",
       "1   mexican  [tomatoes, diced red onions, paprika, salt, co...\n",
       "2    french  [chicken broth, truffles, pimentos, green pepp...\n",
       "3   chinese  [fresh ginger, sesame oil, frozen peas, cooked...\n",
       "4   italian  [orange peel, cookies, vanilla ice cream, gran..."
      ]
     },
     "execution_count": 6,
     "metadata": {},
     "output_type": "execute_result"
    }
   ],
   "source": [
    "#DataFrame manipulation\n",
    "data = pd.read_json(\"data/train.json\")\n",
    "data = data.set_index(\"id\")\n",
    "data = data.sort_values(\"id\")\n",
    "data.head()"
   ]
  },
  {
   "cell_type": "code",
   "execution_count": 7,
   "metadata": {},
   "outputs": [
    {
     "data": {
      "text/plain": [
       "cuisine        object\n",
       "ingredients    object\n",
       "dtype: object"
      ]
     },
     "execution_count": 7,
     "metadata": {},
     "output_type": "execute_result"
    }
   ],
   "source": [
    "data.dtypes"
   ]
  },
  {
   "cell_type": "code",
   "execution_count": 8,
   "metadata": {},
   "outputs": [
    {
     "data": {
      "text/plain": [
       "cuisine        0\n",
       "ingredients    0\n",
       "dtype: int64"
      ]
     },
     "execution_count": 8,
     "metadata": {},
     "output_type": "execute_result"
    }
   ],
   "source": [
    "data.isnull().sum()"
   ]
  },
  {
   "cell_type": "code",
   "execution_count": 10,
   "metadata": {},
   "outputs": [
    {
     "name": "stdout",
     "output_type": "stream",
     "text": [
      "Number of Cuisines : 20\n",
      "italian         7838\n",
      "mexican         6438\n",
      "southern_us     4320\n",
      "indian          3003\n",
      "chinese         2673\n",
      "french          2646\n",
      "cajun_creole    1546\n",
      "thai            1539\n",
      "japanese        1423\n",
      "greek           1175\n",
      "spanish          989\n",
      "korean           830\n",
      "vietnamese       825\n",
      "moroccan         821\n",
      "british          804\n",
      "filipino         755\n",
      "irish            667\n",
      "jamaican         526\n",
      "russian          489\n",
      "brazilian        467\n",
      "Name: cuisine, dtype: int64\n"
     ]
    },
    {
     "data": {
      "text/plain": [
       "<seaborn.axisgrid.FacetGrid at 0x272fb627eb8>"
      ]
     },
     "execution_count": 10,
     "metadata": {},
     "output_type": "execute_result"
    },
    {
     "data": {
      "image/png": "[encoded data removed]",
      "text/plain": [
       "<Figure size 360x360 with 1 Axes>"
      ]
     },
     "metadata": {
      "needs_background": "light"
     },
     "output_type": "display_data"
    }
   ],
   "source": [
    "# Cuisines in the Dataset\n",
    "print(\"Number of Cuisines :\", len(data[\"cuisine\"].unique()))\n",
    "\n",
    "# Recipes in each cuisine\n",
    "print(data[\"cuisine\"].value_counts())\n",
    "sb.catplot(y = \"cuisine\", data = data, kind = \"count\")"
   ]
  },
  {
   "cell_type": "code",
   "execution_count": 17,
   "metadata": {},
   "outputs": [
    {
     "name": "stdout",
     "output_type": "stream",
     "text": [
      "Number of single ingredients = 6714\n",
      "\n",
      "spanish cuisine: 64 specific ingredients, 1263  different ingredients\n",
      "mexican cuisine: 716 specific ingredients, 2684  different ingredients\n",
      "french cuisine: 288 specific ingredients, 2102  different ingredients\n",
      "chinese cuisine: 317 specific ingredients, 1792  different ingredients\n",
      "italian cuisine: 852 specific ingredients, 2929  different ingredients\n",
      "southern_us cuisine: 446 specific ingredients, 2462  different ingredients\n",
      "indian cuisine: 270 specific ingredients, 1664  different ingredients\n",
      "thai cuisine: 121 specific ingredients, 1376  different ingredients\n",
      "cajun_creole cuisine: 148 specific ingredients, 1576  different ingredients\n",
      "jamaican cuisine: 42 specific ingredients, 877  different ingredients\n",
      "japanese cuisine: 213 specific ingredients, 1439  different ingredients\n",
      "greek cuisine: 86 specific ingredients, 1198  different ingredients\n",
      "russian cuisine: 56 specific ingredients, 872  different ingredients\n",
      "irish cuisine: 49 specific ingredients, 999  different ingredients\n",
      "moroccan cuisine: 48 specific ingredients, 974  different ingredients\n",
      "korean cuisine: 64 specific ingredients, 898  different ingredients\n",
      "filipino cuisine: 78 specific ingredients, 947  different ingredients\n",
      "vietnamese cuisine: 65 specific ingredients, 1108  different ingredients\n",
      "british cuisine: 110 specific ingredients, 1166  different ingredients\n",
      "brazilian cuisine: 59 specific ingredients, 853  different ingredients\n",
      "\n",
      "4092 ingredients are specific to one cuisine and \n",
      "2622 ingredients are not specific to one cuisine\n"
     ]
    }
   ],
   "source": [
    "#Finding the different ingredients stored in the data\n",
    "from collections import Counter\n",
    "from itertools import chain, combinations\n",
    "counted_ingredients = Counter(chain.from_iterable(data.ingredients.tolist())) # Builds a counter to count the occurences of each single ingredient\n",
    "single_ingredients = list(counted_ingredients.keys()) # Builds a list will all single ingredients\n",
    "n_single_ingredients = len(single_ingredients) # Counts the number of single ingredients\n",
    "print(\"Number of single ingredients = \" + str(n_single_ingredients) + \"\\n\")\n",
    "\n",
    "specific_ingredients = {} # Will be a dict of lists\n",
    "sorted_ingredients = {} # Will be a dict of Counters\n",
    "sorted_not_specific_ingredients = {} # Will be a dict of lists\n",
    "not_specific_ingredients = single_ingredients # Will be a list\n",
    "\n",
    "for cuisine in single_cuisines :\n",
    "    sorted_ingredients[cuisine] = Counter(chain.from_iterable(data[data.cuisine == cuisine].ingredients.tolist()))\n",
    "    other_cuisines_ingredients = Counter(chain.from_iterable(data[data.cuisine != cuisine].ingredients.tolist()))\n",
    "    intersection  = Counter(sorted_ingredients[cuisine]) & Counter(other_cuisines_ingredients)\n",
    "    specific_ingredients[cuisine] = list(sorted_ingredients[cuisine] - intersection)\n",
    "    not_specific_ingredients = list(Counter(not_specific_ingredients) - Counter(specific_ingredients[cuisine]))\n",
    "    sorted_not_specific_ingredients[cuisine] = list(sorted_ingredients[cuisine] - Counter(specific_ingredients[cuisine]))\n",
    "    # Print info about current cuisine\n",
    "    print(cuisine + \" cuisine: \" + str(len(specific_ingredients[cuisine])) + \" specific ingredients, \"+ str(len(sorted_ingredients[cuisine])) + \"  different ingredients\")\n",
    " \n",
    "sum_specific_ingredients = sum(len(v) for v in specific_ingredients.values())\n",
    "sum_not_specific_ingredients = len(not_specific_ingredients)\n",
    "\n",
    "print(\"\\n\" + str(sum_specific_ingredients) + \" ingredients are specific to one cuisine and \\n\" + str(sum_not_specific_ingredients)+\" ingredients are not specific to one cuisine\")"
   ]
  },
  {
   "cell_type": "code",
   "execution_count": null,
   "metadata": {},
   "outputs": [],
   "source": []
  }
 ],
 "metadata": {
  "kernelspec": {
   "display_name": "Python 3",
   "language": "python",
   "name": "python3"
  },
  "language_info": {
   "codemirror_mode": {
    "name": "ipython",
    "version": 3
   },
   "file_extension": ".py",
   "mimetype": "text/x-python",
   "name": "python",
   "nbconvert_exporter": "python",
   "pygments_lexer": "ipython3",
   "version": "3.7.0"
  }
 },
 "nbformat": 4,
 "nbformat_minor": 2
}
