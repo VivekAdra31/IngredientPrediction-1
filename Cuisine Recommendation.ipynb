{
 "cells": [
  {
   "cell_type": "code",
   "execution_count": 8,
   "metadata": {},
   "outputs": [],
   "source": [
    "import pandas as pd\n",
    "import numpy as np\n",
    "import matplotlib.pyplot as plt\n",
    "import seaborn as sb\n",
    "sb.set()"
   ]
  },
  {
   "cell_type": "code",
   "execution_count": 10,
   "metadata": {},
   "outputs": [
    {
     "data": {
      "text/html": [
       "<div>\n",
       "<style scoped>\n",
       "    .dataframe tbody tr th:only-of-type {\n",
       "        vertical-align: middle;\n",
       "    }\n",
       "\n",
       "    .dataframe tbody tr th {\n",
       "        vertical-align: top;\n",
       "    }\n",
       "\n",
       "    .dataframe thead th {\n",
       "        text-align: right;\n",
       "    }\n",
       "</style>\n",
       "<table border=\"1\" class=\"dataframe\">\n",
       "  <thead>\n",
       "    <tr style=\"text-align: right;\">\n",
       "      <th></th>\n",
       "      <th>cuisine</th>\n",
       "      <th>ingredients</th>\n",
       "      <th>all_ingredients</th>\n",
       "    </tr>\n",
       "    <tr>\n",
       "      <th>id</th>\n",
       "      <th></th>\n",
       "      <th></th>\n",
       "      <th></th>\n",
       "    </tr>\n",
       "  </thead>\n",
       "  <tbody>\n",
       "    <tr>\n",
       "      <th>0</th>\n",
       "      <td>spanish</td>\n",
       "      <td>['mussels', 'ground black pepper', 'garlic clo...</td>\n",
       "      <td>mussels;ground black pepper;garlic cloves;saff...</td>\n",
       "    </tr>\n",
       "    <tr>\n",
       "      <th>1</th>\n",
       "      <td>mexican</td>\n",
       "      <td>['tomatoes', 'diced red onions', 'paprika', 's...</td>\n",
       "      <td>tomatoes;diced red onions;paprika;salt;corn to...</td>\n",
       "    </tr>\n",
       "    <tr>\n",
       "      <th>2</th>\n",
       "      <td>french</td>\n",
       "      <td>['chicken broth', 'truffles', 'pimentos', 'gre...</td>\n",
       "      <td>chicken broth;truffles;pimentos;green pepper;o...</td>\n",
       "    </tr>\n",
       "    <tr>\n",
       "      <th>3</th>\n",
       "      <td>chinese</td>\n",
       "      <td>['fresh ginger', 'sesame oil', 'frozen peas', ...</td>\n",
       "      <td>fresh ginger;sesame oil;frozen peas;cooked ric...</td>\n",
       "    </tr>\n",
       "    <tr>\n",
       "      <th>4</th>\n",
       "      <td>italian</td>\n",
       "      <td>['orange peel', 'cookies', 'vanilla ice cream'...</td>\n",
       "      <td>orange peel;cookies;vanilla ice cream;gran mar...</td>\n",
       "    </tr>\n",
       "  </tbody>\n",
       "</table>\n",
       "</div>"
      ],
      "text/plain": [
       "    cuisine                                        ingredients  \\\n",
       "id                                                               \n",
       "0   spanish  ['mussels', 'ground black pepper', 'garlic clo...   \n",
       "1   mexican  ['tomatoes', 'diced red onions', 'paprika', 's...   \n",
       "2    french  ['chicken broth', 'truffles', 'pimentos', 'gre...   \n",
       "3   chinese  ['fresh ginger', 'sesame oil', 'frozen peas', ...   \n",
       "4   italian  ['orange peel', 'cookies', 'vanilla ice cream'...   \n",
       "\n",
       "                                      all_ingredients  \n",
       "id                                                     \n",
       "0   mussels;ground black pepper;garlic cloves;saff...  \n",
       "1   tomatoes;diced red onions;paprika;salt;corn to...  \n",
       "2   chicken broth;truffles;pimentos;green pepper;o...  \n",
       "3   fresh ginger;sesame oil;frozen peas;cooked ric...  \n",
       "4   orange peel;cookies;vanilla ice cream;gran mar...  "
      ]
     },
     "execution_count": 10,
     "metadata": {},
     "output_type": "execute_result"
    }
   ],
   "source": [
    "#DataFrame manipulation\n",
    "data = pd.read_csv(\"data/modified_train.csv\")\n",
    "data = data.set_index(\"id\")\n",
    "data = data.sort_values(\"id\")\n",
    "data.head()"
   ]
  },
  {
   "cell_type": "code",
   "execution_count": 12,
   "metadata": {},
   "outputs": [
    {
     "data": {
      "text/plain": [
       "(39774, 3051)"
      ]
     },
     "execution_count": 12,
     "metadata": {},
     "output_type": "execute_result"
    }
   ],
   "source": [
    "#Convert CSV to matrix\n",
    "from sklearn.feature_extraction.text import CountVectorizer\n",
    "\n",
    "cv = CountVectorizer()\n",
    "X = cv.fit_transform(data['all_ingredients'].values)\n",
    "X.shape\n",
    "\n",
    "#This essentially does one-hot-encoding for each ingredient as a column having 1 or 0 for each row being a dish"
   ]
  },
  {
   "cell_type": "code",
   "execution_count": 13,
   "metadata": {},
   "outputs": [],
   "source": [
    "#Encoding the labels\n",
    "from sklearn.preprocessing import LabelEncoder\n",
    "\n",
    "enc = LabelEncoder()\n",
    "y = enc.fit_transform(data.cuisine)"
   ]
  },
  {
   "cell_type": "code",
   "execution_count": 14,
   "metadata": {},
   "outputs": [
    {
     "data": {
      "text/plain": [
       "array([17, 13,  5,  3,  9,  3,  5, 16,  3,  9, 13,  7, 13,  9, 18, 13, 16,\n",
       "       13, 13,  2, 10, 13, 11, 13,  6, 13, 16, 13, 15, 13,  5,  8, 16,  7,\n",
       "        7, 16,  7,  2, 18, 13,  9, 17, 13, 13, 18,  9, 14,  2,  9,  8, 11,\n",
       "       17,  9,  5,  9,  3,  7, 13,  9, 13, 12, 16,  9,  7, 16,  6, 14,  4,\n",
       "       16, 13, 16,  6, 10, 15,  5, 16,  9,  9, 11, 13, 13,  5,  4, 16,  3,\n",
       "        5,  3, 19, 16, 12, 17, 13, 16,  9, 13,  5,  5, 13,  9,  9])"
      ]
     },
     "execution_count": 14,
     "metadata": {},
     "output_type": "execute_result"
    }
   ],
   "source": [
    "y[:100]"
   ]
  },
  {
   "cell_type": "code",
   "execution_count": 15,
   "metadata": {},
   "outputs": [
    {
     "data": {
      "text/plain": [
       "array(['brazilian', 'british', 'cajun_creole', 'chinese', 'filipino',\n",
       "       'french', 'greek', 'indian', 'irish', 'italian', 'jamaican',\n",
       "       'japanese', 'korean', 'mexican', 'moroccan', 'russian',\n",
       "       'southern_us', 'spanish', 'thai', 'vietnamese'], dtype=object)"
      ]
     },
     "execution_count": 15,
     "metadata": {},
     "output_type": "execute_result"
    }
   ],
   "source": [
    "#LabelEncoder converts strings to numbers\n",
    "enc.classes_"
   ]
  },
  {
   "cell_type": "code",
   "execution_count": 18,
   "metadata": {},
   "outputs": [
    {
     "name": "stderr",
     "output_type": "stream",
     "text": [
      "c:\\users\\laksh\\appdata\\local\\programs\\python\\python37\\lib\\site-packages\\sklearn\\linear_model\\logistic.py:433: FutureWarning: Default solver will be changed to 'lbfgs' in 0.22. Specify a solver to silence this warning.\n",
      "  FutureWarning)\n",
      "c:\\users\\laksh\\appdata\\local\\programs\\python\\python37\\lib\\site-packages\\sklearn\\linear_model\\logistic.py:460: FutureWarning: Default multi_class will be changed to 'auto' in 0.22. Specify the multi_class option to silence this warning.\n",
      "  \"this warning.\", FutureWarning)\n"
     ]
    },
    {
     "data": {
      "text/plain": [
       "LogisticRegression(C=1.0, class_weight=None, dual=False, fit_intercept=True,\n",
       "          intercept_scaling=1, max_iter=100, multi_class='warn',\n",
       "          n_jobs=None, penalty='l2', random_state=None, solver='warn',\n",
       "          tol=0.0001, verbose=0, warm_start=False)"
      ]
     },
     "execution_count": 18,
     "metadata": {},
     "output_type": "execute_result"
    }
   ],
   "source": [
    "#Training a Logistic Regression on the dataset\n",
    "from sklearn.model_selection import train_test_split\n",
    "X_train, X_test, y_train, y_test = train_test_split(X, y, test_size=0.2)\n",
    "\n",
    "from sklearn.linear_model import LogisticRegression\n",
    "\n",
    "logistic = LogisticRegression()\n",
    "logistic.fit(X_train, y_train)"
   ]
  },
  {
   "cell_type": "code",
   "execution_count": 19,
   "metadata": {},
   "outputs": [
    {
     "data": {
      "text/plain": [
       "0.7844123192960403"
      ]
     },
     "execution_count": 19,
     "metadata": {},
     "output_type": "execute_result"
    }
   ],
   "source": [
    "logistic.score(X_test, y_test)"
   ]
  },
  {
   "cell_type": "code",
   "execution_count": 21,
   "metadata": {},
   "outputs": [
    {
     "data": {
      "text/plain": [
       "Text(0.5, 62.474999999999966, 'Predicted label')"
      ]
     },
     "execution_count": 21,
     "metadata": {},
     "output_type": "execute_result"
    },
    {
     "data": {
      "image/png": "[encoded data removed]",
      "text/plain": [
       "<Figure size 720x720 with 2 Axes>"
      ]
     },
     "metadata": {
      "needs_background": "light"
     },
     "output_type": "display_data"
    }
   ],
   "source": [
    "from sklearn.metrics import confusion_matrix\n",
    "\n",
    "plt.figure(figsize=(10, 10))\n",
    "\n",
    "cm = confusion_matrix(y_test, logistic.predict(X_test))\n",
    "cm_normalized = cm.astype('float') / cm.sum(axis=1)[:, np.newaxis]\n",
    "\n",
    "plt.imshow(cm_normalized, interpolation='nearest')\n",
    "plt.title(\"confusion matrix\")\n",
    "plt.colorbar(shrink=0.3)\n",
    "cuisines = data['cuisine'].value_counts().index\n",
    "tick_marks = np.arange(len(cuisines))\n",
    "plt.xticks(tick_marks, cuisines, rotation=90)\n",
    "plt.yticks(tick_marks, cuisines)\n",
    "plt.tight_layout()\n",
    "plt.ylabel('True label')\n",
    "plt.xlabel('Predicted label')"
   ]
  },
  {
   "cell_type": "markdown",
   "metadata": {},
   "source": [
    "from sklearn.metrics import classification_report\n",
    "y_pred = logistic.predict(X_test)\n",
    "print(classification_report(y_test, y_pred, target_names=cuisines))"
   ]
  },
  {
   "cell_type": "code",
   "execution_count": 31,
   "metadata": {},
   "outputs": [],
   "source": [
    "def predict_cuisine(ingredients):\n",
    "    X_test = cv.transform(ingredients.values)\n",
    "    result = logistic.predict(X_test)\n",
    "    result = enc.inverse_transform(result)\n",
    "    print(result)"
   ]
  },
  {
   "cell_type": "code",
   "execution_count": 42,
   "metadata": {},
   "outputs": [
    {
     "name": "stdout",
     "output_type": "stream",
     "text": [
      "['japanese']\n"
     ]
    }
   ],
   "source": [
    "predict_cuisine(pd.Series([\"soy sauce; mirin\"]))"
   ]
  },
  {
   "cell_type": "code",
   "execution_count": null,
   "metadata": {},
   "outputs": [],
   "source": []
  }
 ],
 "metadata": {
  "kernelspec": {
   "display_name": "Python 3",
   "language": "python",
   "name": "python3"
  },
  "language_info": {
   "codemirror_mode": {
    "name": "ipython",
    "version": 3
   },
   "file_extension": ".py",
   "mimetype": "text/x-python",
   "name": "python",
   "nbconvert_exporter": "python",
   "pygments_lexer": "ipython3",
   "version": "3.7.0"
  }
 },
 "nbformat": 4,
 "nbformat_minor": 2
}
