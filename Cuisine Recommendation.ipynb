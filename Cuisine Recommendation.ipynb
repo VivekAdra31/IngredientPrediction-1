{
 "cells": [
  {
   "cell_type": "code",
   "execution_count": 1,
   "metadata": {},
   "outputs": [],
   "source": [
    "import re\n",
    "import json\n",
    "import nltk\n",
    "import pandas as pd\n",
    "from sklearn.preprocessing import LabelEncoder\n",
    "from sklearn.model_selection import GridSearchCV\n",
    "from sklearn.feature_extraction.text import TfidfVectorizer\n",
    "from sklearn.svm import SVC\n",
    "from sklearn.multiclass import OneVsRestClassifier"
   ]
  },
  {
   "cell_type": "code",
   "execution_count": 3,
   "metadata": {},
   "outputs": [
    {
     "data": {
      "text/plain": [
       "39774"
      ]
     },
     "execution_count": 3,
     "metadata": {},
     "output_type": "execute_result"
    }
   ],
   "source": [
    "with open('data/train.json') as json_file:\n",
    "    json_data = json.load(json_file)\n",
    "\n",
    "len(json_data)"
   ]
  },
  {
   "cell_type": "code",
   "execution_count": 4,
   "metadata": {},
   "outputs": [],
   "source": [
    "# remove id for training data\n",
    "list(map(lambda d: d.pop('id'), json_data));\n",
    "# get the ingredients\n",
    "json_ingredients = [x['ingredients'] for x in json_data]"
   ]
  },
  {
   "cell_type": "code",
   "execution_count": 5,
   "metadata": {},
   "outputs": [],
   "source": [
    "# make lowercase, clear punctuation, and stem\n",
    "# dashes are added so ngram isn't confused when lists are combined\n",
    "lowercase = [[x.lower() for x in y] for y in json_ingredients]\n",
    "punctuation_lowercase = [[re.sub(r'([^\\s\\w]|_)+', '', x) for x in y] for y in lowercase]\n",
    "sno = nltk.stem.SnowballStemmer('english')\n",
    "punctuation_lowercase_stemmed = [[sno.stem(x) for x in y] for y in punctuation_lowercase]\n",
    "punctuation_lowercase_stemmed_dash = [[x.replace(' ', '-') for x in y] for y in punctuation_lowercase_stemmed]\n",
    "json_ingredients_cleaned = [' '.join(x) for x in punctuation_lowercase_stemmed_dash]"
   ]
  },
  {
   "cell_type": "code",
   "execution_count": 6,
   "metadata": {},
   "outputs": [],
   "source": [
    "# grab cuisine variables\n",
    "json_cuisine = [x['cuisine'] for x in json_data]"
   ]
  },
  {
   "cell_type": "code",
   "execution_count": 7,
   "metadata": {},
   "outputs": [],
   "source": [
    "# turn targets into ints\n",
    "lb = LabelEncoder()\n",
    "y = lb.fit_transform(json_cuisine)"
   ]
  },
  {
   "cell_type": "code",
   "execution_count": 8,
   "metadata": {},
   "outputs": [],
   "source": [
    "# implement tfid\n",
    "tfidf = TfidfVectorizer(use_idf=True, ngram_range=(1,3))\n",
    "X = tfidf.fit_transform(json_ingredients_cleaned)"
   ]
  },
  {
   "cell_type": "code",
   "execution_count": 10,
   "metadata": {},
   "outputs": [
    {
     "data": {
      "text/plain": [
       "SVC(C=100, cache_size=200, class_weight=None, coef0=0.0,\n",
       "  decision_function_shape='ovr', degree=3, gamma=0.01, kernel='rbf',\n",
       "  max_iter=-1, probability=False, random_state=None, shrinking=True,\n",
       "  tol=0.001, verbose=False)"
      ]
     },
     "execution_count": 10,
     "metadata": {},
     "output_type": "execute_result"
    }
   ],
   "source": [
    "model = SVC(\n",
    "            kernel='rbf',\n",
    "            C = 100,\n",
    "            gamma=.01,\n",
    "            tol=0.001,\n",
    "            verbose=False,\n",
    "            max_iter=-1,\n",
    "            )\n",
    "model.fit(X, y)"
   ]
  },
  {
   "cell_type": "code",
   "execution_count": 11,
   "metadata": {},
   "outputs": [],
   "source": [
    "with open('data/test.json') as json_file:\n",
    "    json_data_test = json.load(json_file)\n",
    "\n",
    "len(json_data_test)\n",
    "\n",
    "json_ingredients_test = [x['ingredients'] for x in json_data_test]"
   ]
  },
  {
   "cell_type": "code",
   "execution_count": 12,
   "metadata": {},
   "outputs": [],
   "source": [
    "# make lowercase, clear punctuation, and stem\n",
    "# dashes are added so ngram isn't confused\n",
    "lowercase_test = [[x.lower() for x in y] for y in json_ingredients_test]\n",
    "punctuation_lowercase_test = [[re.sub(r'([^\\s\\w]|_)+', '', x) for x in y] for y in lowercase_test]\n",
    "punctuation_lowercase_stemmed_test = [[sno.stem(x) for x in y] for y in punctuation_lowercase_test]\n",
    "punctuation_lowercase_stemmed_dash_test = [[x.replace(' ', '-') for x in y] for y in punctuation_lowercase_stemmed_test]\n",
    "json_ingredients_cleaned_test = [' '.join(x) for x in punctuation_lowercase_stemmed_dash_test]\n",
    "\n",
    "X_test = tfidf.transform(json_ingredients_cleaned_test)"
   ]
  },
  {
   "cell_type": "code",
   "execution_count": 13,
   "metadata": {},
   "outputs": [],
   "source": [
    "# Predictions\n",
    "y_test = model.predict(X_test)\n",
    "y_pred = lb.inverse_transform(y_test)\n",
    "\n",
    "test_id = [doc['id'] for doc in json_data_test]\n",
    "df = pd.DataFrame({'id':test_id, 'cuisine':y_pred}, columns=['id','cuisine'])\n",
    "df.to_csv('cuisine_output.csv', index=False)"
   ]
  },
  {
   "cell_type": "code",
   "execution_count": null,
   "metadata": {},
   "outputs": [],
   "source": [
    "def predict_from_list(input_list):\n",
    "    lowercase_text = [x.lower() for x in input_list]\n",
    "    "
   ]
  }
 ],
 "metadata": {
  "kernelspec": {
   "display_name": "Python 3",
   "language": "python",
   "name": "python3"
  },
  "language_info": {
   "codemirror_mode": {
    "name": "ipython",
    "version": 3
   },
   "file_extension": ".py",
   "mimetype": "text/x-python",
   "name": "python",
   "nbconvert_exporter": "python",
   "pygments_lexer": "ipython3",
   "version": "3.7.0"
  }
 },
 "nbformat": 4,
 "nbformat_minor": 2
}
