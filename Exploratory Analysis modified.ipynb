{
 "cells": [
  {
   "cell_type": "code",
   "execution_count": null,
   "metadata": {},
   "outputs": [],
   "source": [
    "import pandas as pd\n",
    "import numpy as np\n",
    "import matplotlib.pyplot as plt\n",
    "import seaborn as sb\n",
    "sb.set()"
   ]
  },
  {
   "cell_type": "code",
   "execution_count": null,
   "metadata": {},
   "outputs": [],
   "source": [
    "#DataFrame manipulation\n",
    "data = pd.read_json(\"train.json\")\n",
    "data = data.set_index(\"id\")\n",
    "data = data.sort_values(\"id\")\n",
    "data.head()"
   ]
  },
  {
   "cell_type": "code",
   "execution_count": null,
   "metadata": {},
   "outputs": [],
   "source": [
    "data.isnull().sum()"
   ]
  },
  {
   "cell_type": "code",
   "execution_count": null,
   "metadata": {},
   "outputs": [],
   "source": [
    "# Cuisines in the Dataset\n",
    "print(\"Number of Cuisines :\", len(data[\"cuisine\"].unique()))\n",
    "\n",
    "# Recipes in each cuisine\n",
    "print(data[\"cuisine\"].value_counts())\n",
    "sb.catplot(y = \"cuisine\", data = data, kind = \"count\")"
   ]
  },
  {
   "cell_type": "code",
   "execution_count": null,
   "metadata": {},
   "outputs": [],
   "source": [
    "#Finding the different ingredients stored in the data\n",
    "from collections import Counter\n",
    "from itertools import chain, combinations\n",
    "counted_ingredients = Counter(chain.from_iterable(data.ingredients.tolist())) # Builds a counter to count the occurences of each single ingredient\n",
    "single_ingredients = list(counted_ingredients.keys()) # Builds a list will all single ingredients\n",
    "n_single_ingredients = len(single_ingredients) # Counts the number of single ingredients\n",
    "print(\"Number of single ingredients = \" + str(n_single_ingredients) + \"\\n\")\n",
    "\n",
    "specific_ingredients = {} # Will be a dict of lists\n",
    "sorted_ingredients = {} # Will be a dict of Counters\n",
    "sorted_not_specific_ingredients = {} # Will be a dict of lists\n",
    "not_specific_ingredients = single_ingredients # Will be a list\n",
    "\n",
    "for cuisine in single_cuisines :\n",
    "    sorted_ingredients[cuisine] = Counter(chain.from_iterable(data[data.cuisine == cuisine].ingredients.tolist()))\n",
    "    other_cuisines_ingredients = Counter(chain.from_iterable(data[data.cuisine != cuisine].ingredients.tolist()))\n",
    "    intersection  = Counter(sorted_ingredients[cuisine]) & Counter(other_cuisines_ingredients)\n",
    "    specific_ingredients[cuisine] = list(sorted_ingredients[cuisine] - intersection)\n",
    "    not_specific_ingredients = list(Counter(not_specific_ingredients) - Counter(specific_ingredients[cuisine]))\n",
    "    sorted_not_specific_ingredients[cuisine] = list(sorted_ingredients[cuisine] - Counter(specific_ingredients[cuisine]))\n",
    "    # Print info about current cuisine\n",
    "    print(cuisine + \" cuisine: \\t\" + str(len(specific_ingredients[cuisine])) + \" specific ingredients, \\t\"+ str(len(sorted_ingredients[cuisine])) + \"  different ingredients\")\n",
    " \n",
    "sum_specific_ingredients = sum(len(v) for v in specific_ingredients.values())\n",
    "sum_not_specific_ingredients = len(not_specific_ingredients)\n",
    "\n",
    "print(\"\\n\" + str(sum_specific_ingredients) + \" ingredients are specific to one cuisine and \\n\" + str(sum_not_specific_ingredients)+\" ingredients are not specific to one cuisine\")"
   ]
  },
  {
   "cell_type": "code",
   "execution_count": null,
   "metadata": {},
   "outputs": [],
   "source": [
    "import plotly.offline as py\n",
    "import plotly.graph_objs as go\n",
    "py.init_notebook_mode(connected = False)\n",
    "\n",
    "trace1 = go.Bar(\n",
    "    x=['spanish', 'mexican', 'french', 'chinese', 'italian',\n",
    "       'southern_us', 'indian', 'thai', 'cajun_creole', 'jamaican',\n",
    "       'japanese', 'greek', 'russian', 'irish', 'moroccan', 'korean',\n",
    "       'filipino', 'vietnamese', 'british', 'brazilian'],\n",
    "    y=[64,716,288,317,852,\n",
    "       446,270,121,148,42,\n",
    "       213,86,56,49,48,64,\n",
    "       78,65,110,59],\n",
    "    name='specific ingredients'\n",
    ")\n",
    "trace2 = go.Bar(\n",
    "    x=['spanish', 'mexican', 'french', 'chinese', 'italian',\n",
    "       'southern_us', 'indian', 'thai', 'cajun_creole', 'jamaican',\n",
    "       'japanese', 'greek', 'russian', 'irish', 'moroccan', 'korean',\n",
    "       'filipino', 'vietnamese', 'british', 'brazilian'],\n",
    "    y=[1263,2684,2102,1792,2929,\n",
    "       2462,1664,1376,1576,877,\n",
    "       1439,1198,872,999,974,898,\n",
    "       947,1108,1166,853],\n",
    "    name='different ingredients'\n",
    ")\n",
    "\n",
    "data = [trace1, trace2]\n",
    "layout = go.Layout(\n",
    "    barmode='group'\n",
    ")\n",
    "\n",
    "fig = go.Figure(data=data, layout=layout)\n",
    "py.iplot(fig, filename='grouped-bar')"
   ]
  },
  {
   "cell_type": "code",
   "execution_count": null,
   "metadata": {},
   "outputs": [],
   "source": [
    "import operator\n",
    "dc_sort = sorted(counted_ingredients.items(),key = operator.itemgetter(1),reverse=True)\n",
    "top100_ingredients = dc_sort[0:49]"
   ]
  },
  {
   "cell_type": "code",
   "execution_count": null,
   "metadata": {},
   "outputs": [],
   "source": [
    "\n",
    "x = np.array(list(dict(top100_ingredients).keys()))\n",
    "y = np.array(list(dict(top100_ingredients).values()))\n",
    "colors = np.random.rand(50)\n",
    "sz = 20\n",
    "\n",
    "fig = go.Figure()\n",
    "fig.add_scatter(x=x,\n",
    "                y=y,\n",
    "                mode='markers',\n",
    "                marker={'size': sz,\n",
    "                        'color': colors,\n",
    "                        'opacity': 0.6,\n",
    "                        'colorscale': 'Viridis'\n",
    "                       });\n",
    "py.iplot(fig)"
   ]
  }
 ],
 "metadata": {
  "kernelspec": {
   "display_name": "Python 3",
   "language": "python",
   "name": "python3"
  },
  "language_info": {
   "codemirror_mode": {
    "name": "ipython",
    "version": 3
   },
   "file_extension": ".py",
   "mimetype": "text/x-python",
   "name": "python",
   "nbconvert_exporter": "python",
   "pygments_lexer": "ipython3",
   "version": "3.7.1"
  }
 },
 "nbformat": 4,
 "nbformat_minor": 2
}
